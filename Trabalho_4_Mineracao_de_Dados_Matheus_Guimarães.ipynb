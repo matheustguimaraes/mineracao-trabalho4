{
  "nbformat": 4,
  "nbformat_minor": 0,
  "metadata": {
    "colab": {
      "name": "Trabalho 4 - Mineracao de Dados - Matheus Guimarães",
      "provenance": [],
      "collapsed_sections": [],
      "toc_visible": true,
      "mount_file_id": "1iXy3Q5D9EotOKgvQ5WqHxQPFudsuClSR",
      "authorship_tag": "ABX9TyOZ6QqGmqyE8HHeWjPB5Kkf",
      "include_colab_link": true
    },
    "kernelspec": {
      "name": "python3",
      "display_name": "Python 3"
    }
  },
  "cells": [
    {
      "cell_type": "markdown",
      "metadata": {
        "id": "view-in-github",
        "colab_type": "text"
      },
      "source": [
        "<a href=\"https://colab.research.google.com/github/matheustguimaraes/mineracao-trabalho4/blob/master/Trabalho_4_Mineracao_de_Dados_Matheus_Guimar%C3%A3es.ipynb\" target=\"_parent\"><img src=\"https://colab.research.google.com/assets/colab-badge.svg\" alt=\"Open In Colab\"/></a>"
      ]
    },
    {
      "cell_type": "markdown",
      "metadata": {
        "id": "JoK25Cpp78_U",
        "colab_type": "text"
      },
      "source": [
        "# Trabalho 4 da disciplina de Mineração de Dados [CK0223]\n",
        "### Nome: Matheus Teixeira Guimarães\n",
        "### Matrícula: 434054\n",
        "### Professor: Dr. José Antônio Fernandes de Macedo"
      ]
    },
    {
      "cell_type": "code",
      "metadata": {
        "id": "hIsbL0fwZoCp",
        "colab_type": "code",
        "colab": {}
      },
      "source": [
        "import csv\n",
        "import numpy as np\n",
        "import pandas as pd\n",
        "import matplotlib.pyplot as plt\n",
        "from sklearn.naive_bayes import MultinomialNB\n",
        "from sklearn.model_selection import train_test_split\n",
        "from sklearn.feature_extraction.text import CountVectorizer, TfidfVectorizer\n",
        "from sklearn.metrics import classification_report, plot_confusion_matrix"
      ],
      "execution_count": null,
      "outputs": []
    },
    {
      "cell_type": "markdown",
      "metadata": {
        "id": "yXSep38w98O4",
        "colab_type": "text"
      },
      "source": [
        "## 1. Importar e separar o conjunto de dados fornecido em treinamento e teste;"
      ]
    },
    {
      "cell_type": "code",
      "metadata": {
        "id": "BVPg1jjdZrZE",
        "colab_type": "code",
        "colab": {}
      },
      "source": [
        "df = pd.read_csv('noticias.csv', delimiter=\",\")"
      ],
      "execution_count": null,
      "outputs": []
    },
    {
      "cell_type": "code",
      "metadata": {
        "id": "nawJVWoXdqZc",
        "colab_type": "code",
        "colab": {
          "base_uri": "https://localhost:8080/",
          "height": 34
        },
        "outputId": "51c15843-ed35-4851-f065-9d387cef1f06"
      },
      "source": [
        "df.columns"
      ],
      "execution_count": null,
      "outputs": [
        {
          "output_type": "execute_result",
          "data": {
            "text/plain": [
              "Index(['Unnamed: 0', 'title', 'text', 'label'], dtype='object')"
            ]
          },
          "metadata": {
            "tags": []
          },
          "execution_count": 3
        }
      ]
    },
    {
      "cell_type": "code",
      "metadata": {
        "id": "P8jPqyPL9hZ8",
        "colab_type": "code",
        "colab": {}
      },
      "source": [
        "df = df.rename(columns={'Unnamed: 0': 'id'})"
      ],
      "execution_count": null,
      "outputs": []
    },
    {
      "cell_type": "code",
      "metadata": {
        "id": "b4kLcHVf-CrQ",
        "colab_type": "code",
        "colab": {
          "base_uri": "https://localhost:8080/",
          "height": 206
        },
        "outputId": "166e9015-67b9-4af8-9706-cfb52b6559aa"
      },
      "source": [
        "df.head(5)"
      ],
      "execution_count": null,
      "outputs": [
        {
          "output_type": "execute_result",
          "data": {
            "text/html": [
              "<div>\n",
              "<style scoped>\n",
              "    .dataframe tbody tr th:only-of-type {\n",
              "        vertical-align: middle;\n",
              "    }\n",
              "\n",
              "    .dataframe tbody tr th {\n",
              "        vertical-align: top;\n",
              "    }\n",
              "\n",
              "    .dataframe thead th {\n",
              "        text-align: right;\n",
              "    }\n",
              "</style>\n",
              "<table border=\"1\" class=\"dataframe\">\n",
              "  <thead>\n",
              "    <tr style=\"text-align: right;\">\n",
              "      <th></th>\n",
              "      <th>id</th>\n",
              "      <th>title</th>\n",
              "      <th>text</th>\n",
              "      <th>label</th>\n",
              "    </tr>\n",
              "  </thead>\n",
              "  <tbody>\n",
              "    <tr>\n",
              "      <th>0</th>\n",
              "      <td>8476</td>\n",
              "      <td>You Can Smell Hillary’s Fear</td>\n",
              "      <td>Daniel Greenfield, a Shillman Journalism Fello...</td>\n",
              "      <td>FAKE</td>\n",
              "    </tr>\n",
              "    <tr>\n",
              "      <th>1</th>\n",
              "      <td>10294</td>\n",
              "      <td>Watch The Exact Moment Paul Ryan Committed Pol...</td>\n",
              "      <td>Google Pinterest Digg Linkedin Reddit Stumbleu...</td>\n",
              "      <td>FAKE</td>\n",
              "    </tr>\n",
              "    <tr>\n",
              "      <th>2</th>\n",
              "      <td>3608</td>\n",
              "      <td>Kerry to go to Paris in gesture of sympathy</td>\n",
              "      <td>U.S. Secretary of State John F. Kerry said Mon...</td>\n",
              "      <td>REAL</td>\n",
              "    </tr>\n",
              "    <tr>\n",
              "      <th>3</th>\n",
              "      <td>10142</td>\n",
              "      <td>Bernie supporters on Twitter erupt in anger ag...</td>\n",
              "      <td>— Kaydee King (@KaydeeKing) November 9, 2016 T...</td>\n",
              "      <td>FAKE</td>\n",
              "    </tr>\n",
              "    <tr>\n",
              "      <th>4</th>\n",
              "      <td>875</td>\n",
              "      <td>The Battle of New York: Why This Primary Matters</td>\n",
              "      <td>It's primary day in New York and front-runners...</td>\n",
              "      <td>REAL</td>\n",
              "    </tr>\n",
              "  </tbody>\n",
              "</table>\n",
              "</div>"
            ],
            "text/plain": [
              "      id  ... label\n",
              "0   8476  ...  FAKE\n",
              "1  10294  ...  FAKE\n",
              "2   3608  ...  REAL\n",
              "3  10142  ...  FAKE\n",
              "4    875  ...  REAL\n",
              "\n",
              "[5 rows x 4 columns]"
            ]
          },
          "metadata": {
            "tags": []
          },
          "execution_count": 5
        }
      ]
    },
    {
      "cell_type": "code",
      "metadata": {
        "id": "VEKDWdTV-8gy",
        "colab_type": "code",
        "colab": {
          "base_uri": "https://localhost:8080/",
          "height": 34
        },
        "outputId": "e84578ec-4830-457e-af9c-183f25b731bc"
      },
      "source": [
        "df.shape"
      ],
      "execution_count": null,
      "outputs": [
        {
          "output_type": "execute_result",
          "data": {
            "text/plain": [
              "(6335, 4)"
            ]
          },
          "metadata": {
            "tags": []
          },
          "execution_count": 6
        }
      ]
    },
    {
      "cell_type": "code",
      "metadata": {
        "id": "S4w848tBRJ_Q",
        "colab_type": "code",
        "colab": {}
      },
      "source": [
        "df['titleAndText'] = df['title'] + ' ' + df['text']"
      ],
      "execution_count": null,
      "outputs": []
    },
    {
      "cell_type": "code",
      "metadata": {
        "id": "kZwMzUjcetvK",
        "colab_type": "code",
        "colab": {}
      },
      "source": [
        "X, y = df['titleAndText'], df['label']"
      ],
      "execution_count": null,
      "outputs": []
    },
    {
      "cell_type": "code",
      "metadata": {
        "id": "3Ypydhpnd4wr",
        "colab_type": "code",
        "colab": {}
      },
      "source": [
        "X_train, X_test, y_train, y_test = train_test_split(X, y, test_size=0.2, random_state=42)"
      ],
      "execution_count": null,
      "outputs": []
    },
    {
      "cell_type": "markdown",
      "metadata": {
        "id": "xhLDKwwI-Mf3",
        "colab_type": "text"
      },
      "source": [
        "## 2. Criar uma matriz vetorizada que represente os textos utilizando o Count Vectorizer;\n"
      ]
    },
    {
      "cell_type": "code",
      "metadata": {
        "id": "UHMQ0b_Nd-Tq",
        "colab_type": "code",
        "colab": {}
      },
      "source": [
        "# conjunto de treino e teste vetorizados pelo CountVectorizer\n",
        "cvectorizer = CountVectorizer()\n",
        "X_train_c = cvectorizer.fit_transform(X_train)\n",
        "X_test_c = cvectorizer.transform(X_test)\n",
        "X_train_c_array = X_train_c.toarray()\n",
        "\n",
        "tvectorizer = TfidfVectorizer()\n",
        "X_train_t = tvectorizer.fit_transform(X_train)\n",
        "X_test_t = tvectorizer.transform(X_test)\n",
        "X_train_t_array = X_train_t.toarray()"
      ],
      "execution_count": null,
      "outputs": []
    },
    {
      "cell_type": "code",
      "metadata": {
        "id": "U2V__Sq8-QMJ",
        "colab_type": "code",
        "colab": {
          "base_uri": "https://localhost:8080/",
          "height": 139
        },
        "outputId": "8dfe38ef-1708-4581-968e-0f9eaf46168a"
      },
      "source": [
        "X_train_c_array"
      ],
      "execution_count": null,
      "outputs": [
        {
          "output_type": "execute_result",
          "data": {
            "text/plain": [
              "array([[0, 0, 0, ..., 0, 0, 0],\n",
              "       [1, 0, 0, ..., 0, 0, 0],\n",
              "       [0, 0, 0, ..., 0, 0, 0],\n",
              "       ...,\n",
              "       [0, 0, 0, ..., 0, 0, 0],\n",
              "       [0, 0, 0, ..., 0, 0, 0],\n",
              "       [0, 0, 0, ..., 0, 0, 0]])"
            ]
          },
          "metadata": {
            "tags": []
          },
          "execution_count": 11
        }
      ]
    },
    {
      "cell_type": "markdown",
      "metadata": {
        "id": "DWOyH_iK_hPw",
        "colab_type": "text"
      },
      "source": [
        "## 3. Criar uma matriz vetorizada que represente os textos utilizando o TF-IDF Vectorizer;"
      ]
    },
    {
      "cell_type": "code",
      "metadata": {
        "id": "bsrdn6NP-mva",
        "colab_type": "code",
        "colab": {
          "base_uri": "https://localhost:8080/",
          "height": 139
        },
        "outputId": "5237cf1b-7480-4309-eac5-fd45ec28cc51"
      },
      "source": [
        "X_train_c_array"
      ],
      "execution_count": null,
      "outputs": [
        {
          "output_type": "execute_result",
          "data": {
            "text/plain": [
              "array([[0, 0, 0, ..., 0, 0, 0],\n",
              "       [1, 0, 0, ..., 0, 0, 0],\n",
              "       [0, 0, 0, ..., 0, 0, 0],\n",
              "       ...,\n",
              "       [0, 0, 0, ..., 0, 0, 0],\n",
              "       [0, 0, 0, ..., 0, 0, 0],\n",
              "       [0, 0, 0, ..., 0, 0, 0]])"
            ]
          },
          "metadata": {
            "tags": []
          },
          "execution_count": 12
        }
      ]
    },
    {
      "cell_type": "markdown",
      "metadata": {
        "id": "XgZRcTlW_ai9",
        "colab_type": "text"
      },
      "source": [
        "## 4. Criar dois modelos para classificar os textos utilizando o algoritmo Naive Bayes (multinomial) utilizando o CountVectorizer e o TfidfVectorizer;"
      ]
    },
    {
      "cell_type": "markdown",
      "metadata": {
        "id": "x0e_sdR2_pXm",
        "colab_type": "text"
      },
      "source": [
        "### Naive Bayes utilizando dataset com Count Vectorizer"
      ]
    },
    {
      "cell_type": "code",
      "metadata": {
        "id": "BDoZEP0qfvEm",
        "colab_type": "code",
        "colab": {}
      },
      "source": [
        "mnb = MultinomialNB()\n",
        "mnb.fit(X_train_c, y_train)\n",
        "mnb_prediction = mnb.predict(X_test_c)"
      ],
      "execution_count": null,
      "outputs": []
    },
    {
      "cell_type": "code",
      "metadata": {
        "id": "70L5dPH_fyJL",
        "colab_type": "code",
        "colab": {
          "base_uri": "https://localhost:8080/",
          "height": 363
        },
        "outputId": "46d3f859-99ad-42ec-a2b7-cc71c0959893"
      },
      "source": [
        "mnb_results = np.array(list(zip(y, mnb_prediction)))\n",
        "mnb_results = pd.DataFrame(mnb_results, columns=['label', 'prediction'])\n",
        "mnb_results.sample(10)"
      ],
      "execution_count": null,
      "outputs": [
        {
          "output_type": "execute_result",
          "data": {
            "text/html": [
              "<div>\n",
              "<style scoped>\n",
              "    .dataframe tbody tr th:only-of-type {\n",
              "        vertical-align: middle;\n",
              "    }\n",
              "\n",
              "    .dataframe tbody tr th {\n",
              "        vertical-align: top;\n",
              "    }\n",
              "\n",
              "    .dataframe thead th {\n",
              "        text-align: right;\n",
              "    }\n",
              "</style>\n",
              "<table border=\"1\" class=\"dataframe\">\n",
              "  <thead>\n",
              "    <tr style=\"text-align: right;\">\n",
              "      <th></th>\n",
              "      <th>label</th>\n",
              "      <th>prediction</th>\n",
              "    </tr>\n",
              "  </thead>\n",
              "  <tbody>\n",
              "    <tr>\n",
              "      <th>372</th>\n",
              "      <td>REAL</td>\n",
              "      <td>REAL</td>\n",
              "    </tr>\n",
              "    <tr>\n",
              "      <th>400</th>\n",
              "      <td>REAL</td>\n",
              "      <td>FAKE</td>\n",
              "    </tr>\n",
              "    <tr>\n",
              "      <th>60</th>\n",
              "      <td>FAKE</td>\n",
              "      <td>REAL</td>\n",
              "    </tr>\n",
              "    <tr>\n",
              "      <th>473</th>\n",
              "      <td>REAL</td>\n",
              "      <td>REAL</td>\n",
              "    </tr>\n",
              "    <tr>\n",
              "      <th>975</th>\n",
              "      <td>REAL</td>\n",
              "      <td>FAKE</td>\n",
              "    </tr>\n",
              "    <tr>\n",
              "      <th>272</th>\n",
              "      <td>REAL</td>\n",
              "      <td>REAL</td>\n",
              "    </tr>\n",
              "    <tr>\n",
              "      <th>1181</th>\n",
              "      <td>REAL</td>\n",
              "      <td>FAKE</td>\n",
              "    </tr>\n",
              "    <tr>\n",
              "      <th>391</th>\n",
              "      <td>FAKE</td>\n",
              "      <td>FAKE</td>\n",
              "    </tr>\n",
              "    <tr>\n",
              "      <th>21</th>\n",
              "      <td>FAKE</td>\n",
              "      <td>REAL</td>\n",
              "    </tr>\n",
              "    <tr>\n",
              "      <th>1146</th>\n",
              "      <td>FAKE</td>\n",
              "      <td>REAL</td>\n",
              "    </tr>\n",
              "  </tbody>\n",
              "</table>\n",
              "</div>"
            ],
            "text/plain": [
              "     label prediction\n",
              "372   REAL       REAL\n",
              "400   REAL       FAKE\n",
              "60    FAKE       REAL\n",
              "473   REAL       REAL\n",
              "975   REAL       FAKE\n",
              "272   REAL       REAL\n",
              "1181  REAL       FAKE\n",
              "391   FAKE       FAKE\n",
              "21    FAKE       REAL\n",
              "1146  FAKE       REAL"
            ]
          },
          "metadata": {
            "tags": []
          },
          "execution_count": 14
        }
      ]
    },
    {
      "cell_type": "markdown",
      "metadata": {
        "id": "U9uncj-vAAJw",
        "colab_type": "text"
      },
      "source": [
        "### Naive Bayes utilizando dataset com TF-IDF Vectorizer"
      ]
    },
    {
      "cell_type": "code",
      "metadata": {
        "id": "Ol_Gu53cuVzy",
        "colab_type": "code",
        "colab": {}
      },
      "source": [
        "mnb2 = MultinomialNB()\n",
        "mnb2.fit(X_train_t, y_train)\n",
        "mnb_prediction2 = mnb.predict(X_test_t)"
      ],
      "execution_count": null,
      "outputs": []
    },
    {
      "cell_type": "code",
      "metadata": {
        "id": "BG3aJ4A4uQN7",
        "colab_type": "code",
        "colab": {
          "base_uri": "https://localhost:8080/",
          "height": 363
        },
        "outputId": "d4551684-77c2-4b40-9ecb-82a6eec87350"
      },
      "source": [
        "mnb_results2 = np.array(list(zip(y, mnb_prediction2)))\n",
        "mnb_results2 = pd.DataFrame(mnb_results2, columns=['label', 'prediction'])\n",
        "mnb_results2.sample(10)"
      ],
      "execution_count": null,
      "outputs": [
        {
          "output_type": "execute_result",
          "data": {
            "text/html": [
              "<div>\n",
              "<style scoped>\n",
              "    .dataframe tbody tr th:only-of-type {\n",
              "        vertical-align: middle;\n",
              "    }\n",
              "\n",
              "    .dataframe tbody tr th {\n",
              "        vertical-align: top;\n",
              "    }\n",
              "\n",
              "    .dataframe thead th {\n",
              "        text-align: right;\n",
              "    }\n",
              "</style>\n",
              "<table border=\"1\" class=\"dataframe\">\n",
              "  <thead>\n",
              "    <tr style=\"text-align: right;\">\n",
              "      <th></th>\n",
              "      <th>label</th>\n",
              "      <th>prediction</th>\n",
              "    </tr>\n",
              "  </thead>\n",
              "  <tbody>\n",
              "    <tr>\n",
              "      <th>467</th>\n",
              "      <td>REAL</td>\n",
              "      <td>REAL</td>\n",
              "    </tr>\n",
              "    <tr>\n",
              "      <th>380</th>\n",
              "      <td>FAKE</td>\n",
              "      <td>REAL</td>\n",
              "    </tr>\n",
              "    <tr>\n",
              "      <th>910</th>\n",
              "      <td>REAL</td>\n",
              "      <td>FAKE</td>\n",
              "    </tr>\n",
              "    <tr>\n",
              "      <th>1066</th>\n",
              "      <td>REAL</td>\n",
              "      <td>FAKE</td>\n",
              "    </tr>\n",
              "    <tr>\n",
              "      <th>571</th>\n",
              "      <td>FAKE</td>\n",
              "      <td>REAL</td>\n",
              "    </tr>\n",
              "    <tr>\n",
              "      <th>1052</th>\n",
              "      <td>REAL</td>\n",
              "      <td>FAKE</td>\n",
              "    </tr>\n",
              "    <tr>\n",
              "      <th>650</th>\n",
              "      <td>FAKE</td>\n",
              "      <td>FAKE</td>\n",
              "    </tr>\n",
              "    <tr>\n",
              "      <th>249</th>\n",
              "      <td>REAL</td>\n",
              "      <td>REAL</td>\n",
              "    </tr>\n",
              "    <tr>\n",
              "      <th>515</th>\n",
              "      <td>REAL</td>\n",
              "      <td>REAL</td>\n",
              "    </tr>\n",
              "    <tr>\n",
              "      <th>971</th>\n",
              "      <td>REAL</td>\n",
              "      <td>REAL</td>\n",
              "    </tr>\n",
              "  </tbody>\n",
              "</table>\n",
              "</div>"
            ],
            "text/plain": [
              "     label prediction\n",
              "467   REAL       REAL\n",
              "380   FAKE       REAL\n",
              "910   REAL       FAKE\n",
              "1066  REAL       FAKE\n",
              "571   FAKE       REAL\n",
              "1052  REAL       FAKE\n",
              "650   FAKE       FAKE\n",
              "249   REAL       REAL\n",
              "515   REAL       REAL\n",
              "971   REAL       REAL"
            ]
          },
          "metadata": {
            "tags": []
          },
          "execution_count": 16
        }
      ]
    },
    {
      "cell_type": "markdown",
      "metadata": {
        "id": "wusYZnEpEPsj",
        "colab_type": "text"
      },
      "source": [
        "## 5. Comparar os resultados utilizando a precisão e a Matriz de Confusão;\n"
      ]
    },
    {
      "cell_type": "markdown",
      "metadata": {
        "id": "HED2VrwBETX9",
        "colab_type": "text"
      },
      "source": [
        "### Count Vectorizer"
      ]
    },
    {
      "cell_type": "code",
      "metadata": {
        "id": "dlF7bxZ2uavS",
        "colab_type": "code",
        "colab": {
          "base_uri": "https://localhost:8080/",
          "height": 173
        },
        "outputId": "9e894dbe-8b0a-433f-975a-9855fa3d042a"
      },
      "source": [
        "print(classification_report(y_test, mnb_prediction))"
      ],
      "execution_count": null,
      "outputs": [
        {
          "output_type": "stream",
          "text": [
            "              precision    recall  f1-score   support\n",
            "\n",
            "        FAKE       0.93      0.87      0.90       628\n",
            "        REAL       0.88      0.93      0.90       639\n",
            "\n",
            "    accuracy                           0.90      1267\n",
            "   macro avg       0.90      0.90      0.90      1267\n",
            "weighted avg       0.90      0.90      0.90      1267\n",
            "\n"
          ],
          "name": "stdout"
        }
      ]
    },
    {
      "cell_type": "code",
      "metadata": {
        "id": "KinqUr8FC4Gu",
        "colab_type": "code",
        "colab": {
          "base_uri": "https://localhost:8080/",
          "height": 279
        },
        "outputId": "4045d82c-43b8-466c-cbfb-eaae25c64a93"
      },
      "source": [
        "plot_confusion_matrix(mnb, X_test_c, y_test)\n",
        "plt.show()"
      ],
      "execution_count": null,
      "outputs": [
        {
          "output_type": "display_data",
          "data": {
            "image/png": "[encoded data removed]",
            "text/plain": [
              "<Figure size 432x288 with 2 Axes>"
            ]
          },
          "metadata": {
            "tags": [],
            "needs_background": "light"
          }
        }
      ]
    },
    {
      "cell_type": "markdown",
      "metadata": {
        "id": "o8i9NOTVEoro",
        "colab_type": "text"
      },
      "source": [
        "### TF-IDF Vectorizer"
      ]
    },
    {
      "cell_type": "code",
      "metadata": {
        "id": "8PUfwkG1EqhU",
        "colab_type": "code",
        "colab": {
          "base_uri": "https://localhost:8080/",
          "height": 173
        },
        "outputId": "f2792cca-c0d7-41ad-e037-03695f6a680d"
      },
      "source": [
        "print(classification_report(y_test, mnb_prediction2))"
      ],
      "execution_count": null,
      "outputs": [
        {
          "output_type": "stream",
          "text": [
            "              precision    recall  f1-score   support\n",
            "\n",
            "        FAKE       0.89      0.91      0.90       628\n",
            "        REAL       0.91      0.89      0.90       639\n",
            "\n",
            "    accuracy                           0.90      1267\n",
            "   macro avg       0.90      0.90      0.90      1267\n",
            "weighted avg       0.90      0.90      0.90      1267\n",
            "\n"
          ],
          "name": "stdout"
        }
      ]
    },
    {
      "cell_type": "code",
      "metadata": {
        "id": "y23TuyqZEtmM",
        "colab_type": "code",
        "colab": {
          "base_uri": "https://localhost:8080/",
          "height": 279
        },
        "outputId": "7762012e-d026-40bf-bcc3-f47bc0df0306"
      },
      "source": [
        "plot_confusion_matrix(mnb2, X_test_t, y_test)\n",
        "plt.show()"
      ],
      "execution_count": null,
      "outputs": [
        {
          "output_type": "display_data",
          "data": {
            "image/png": "[encoded data removed]",
            "text/plain": [
              "<Figure size 432x288 with 2 Axes>"
            ]
          },
          "metadata": {
            "tags": [],
            "needs_background": "light"
          }
        }
      ]
    },
    {
      "cell_type": "markdown",
      "metadata": {
        "id": "KK5ukR5NGI60",
        "colab_type": "text"
      },
      "source": [
        "Para *Count Vectorizer* os valores de precisão foram 93% para FAKE e 87% para REAL. Para *TF-IDF Vectorizer*, os valores de precisão foram 89% para FAKE, e 91% para REAL.\n",
        "\n",
        "Na matriz de confusão é possível ver que *Count Vectorizer* erra menos ao dizer se a notícia é FAKE do que ao dizer se é REAL. Esse mesmo padrão é encontrado em *TF-IDF Vectorizer*.\n",
        "\n"
      ]
    },
    {
      "cell_type": "markdown",
      "metadata": {
        "id": "eyjdTxPHHheE",
        "colab_type": "text"
      },
      "source": [
        "### 6. [BÔNUS] Propor passos adicionais para melhorar os resultados encontrados."
      ]
    },
    {
      "cell_type": "markdown",
      "metadata": {
        "id": "zwyvYMErKPzb",
        "colab_type": "text"
      },
      "source": [
        "Para melhorar os resultados, sugiro rodar o método de GridSearch (https://scikit-learn.org/stable/modules/generated/sklearn.model_selection.GridSearchCV.html) em todos os dados, aumentando assim a amostra de hiper-parâmetros para treinamento do modelo."
      ]
    },
    {
      "cell_type": "code",
      "metadata": {
        "id": "zdeXYmERKygG",
        "colab_type": "code",
        "colab": {}
      },
      "source": [
        ""
      ],
      "execution_count": null,
      "outputs": []
    }
  ]
}